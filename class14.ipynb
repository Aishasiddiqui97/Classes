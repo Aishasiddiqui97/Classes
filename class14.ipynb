
class person:

#__init__ -> dunder /magic
 def __init__(self,user_name,user_age,roll_no): #constructor
  #print("self>>>",self)
  self.name = user_name
  self.age = user_age
  self._roll_no  = roll_no #acess modifier (public,privite,protected)

def get_roll_no(self): #getter function
  return self.__roll_no #->1234

#instance
Person1 = person("a.samad",2,7777)
print("student1.name>>>",Person1.name)
print("student1.age>>>",Person1.age)
print("student1.roll_no before>>>",Person1._roll_no)
#Person1.__roll_no = 7777
print("student1.roll_no after>>>",Person1._roll_no)
print(Person1)

Person2 =person("a.samad",2,7777)
#Person2.get_roll_no()
