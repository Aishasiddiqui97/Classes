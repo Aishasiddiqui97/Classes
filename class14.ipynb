{
  "nbformat": 4,
  "nbformat_minor": 0,
  "metadata": {
    "colab": {
      "provenance": [],
      "authorship_tag": "ABX9TyMYn+9ls6Emfwag/jjDrCsD",
      "include_colab_link": true
    },
    "kernelspec": {
      "name": "python3",
      "display_name": "Python 3"
    },
    "language_info": {
      "name": "python"
    }
  },
  "cells": [
    {
      "cell_type": "markdown",
      "metadata": {
        "id": "view-in-github",
        "colab_type": "text"
      },
      "source": [
        "<a href=\"https://colab.research.google.com/github/Aishasiddiqui97/Classes/blob/main/class14.ipynb\" target=\"_parent\"><img src=\"https://colab.research.google.com/assets/colab-badge.svg\" alt=\"Open In Colab\"/></a>"
      ]
    },
    {
      "cell_type": "markdown",
      "source": [
        "OOP(Object Oriented Programing)"
      ],
      "metadata": {
        "id": "ikwf9GShv23i"
      }
    },
    {
      "cell_type": "code",
      "source": [
        "\n",
        "class person:\n",
        "\n",
        "#__init__ -> dunder /magic\n",
        " def __init__(self,user_name,user_age,roll_no): #constructor\n",
        "  #print(\"self>>>\",self)\n",
        "  self.name = user_name\n",
        "  self.age = user_age\n",
        "  self._roll_no  = roll_no #acess modifier (public,privite,protected)\n",
        "\n",
        "def get_roll_no(self): #getter function\n",
        "  return self.__roll_no #->1234\n",
        "\n",
        "#instance\n",
        "Person1 = person(\"a.samad\",2,7777)\n",
        "print(\"student1.name>>>\",Person1.name)\n",
        "print(\"student1.age>>>\",Person1.age)\n",
        "print(\"student1.roll_no before>>>\",Person1._roll_no)\n",
        "#Person1.__roll_no = 7777\n",
        "print(\"student1.roll_no after>>>\",Person1._roll_no)\n",
        "print(Person1)\n",
        "\n",
        "Person2 =person(\"a.samad\",2,7777)\n",
        "#Person2.get_roll_no()"
      ],
      "metadata": {
        "colab": {
          "base_uri": "https://localhost:8080/"
        },
        "id": "4tuqMFf6v--2",
        "outputId": "7de64ee1-7fef-42e5-ce39-c7fe29026249"
      },
      "execution_count": 1,
      "outputs": [
        {
          "output_type": "stream",
          "name": "stdout",
          "text": [
            "student1.name>>> a.samad\n",
            "student1.age>>> 2\n",
            "student1.roll_no before>>> 7777\n",
            "student1.roll_no after>>> 7777\n",
            "<__main__.person object at 0x7dc0fd27c5d0>\n"
          ]
        }
      ]
    },
    {
      "cell_type": "code",
      "source": [
        "#Inheritence\n",
        "class Person:\n",
        "    def __init__(self,user_name, user_age):\n",
        "      self.name = user_name\n",
        "      self.age = user_age\n",
        "\n",
        "    def work(self):\n",
        "      print(\"Person is working\")\n",
        "\n",
        "person1 = Person(\"Ali\",30)\n",
        "person1.work()\n",
        "print(\"person1.name>>>>\",person1.name)\n",
        "\n",
        "class Male(Person):\n",
        "  def __init__(self, maleName, maleAge):\n",
        "    # Person\n",
        "    super().__init__(maleName, maleAge)\n",
        "    self.income = 100000\n",
        "\n",
        "  def work(Self):\n",
        "       print(\"Male is working\")\n",
        "\n",
        "male1 = Male(\"A.samad\",20)\n",
        "male1.work()\n",
        "print(\"male1.name>>>>\",male1.name)"
      ],
      "metadata": {
        "colab": {
          "base_uri": "https://localhost:8080/"
        },
        "id": "3ZUVvVvM2P8n",
        "outputId": "6a6f7275-f16b-4b57-8bab-abe37e3bf501"
      },
      "execution_count": 2,
      "outputs": [
        {
          "output_type": "stream",
          "name": "stdout",
          "text": [
            "Person is working\n",
            "person1.name>>>> Ali\n",
            "Male is working\n",
            "male1.name>>>> A.samad\n"
          ]
        }
      ]
    }
  ]
}