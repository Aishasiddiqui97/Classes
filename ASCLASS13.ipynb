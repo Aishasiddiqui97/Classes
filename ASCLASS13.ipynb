{
  "nbformat": 4,
  "nbformat_minor": 0,
  "metadata": {
    "colab": {
      "provenance": [],
      "authorship_tag": "ABX9TyOXoxfcpIj1fgKL3CnDymT2",
      "include_colab_link": true
    },
    "kernelspec": {
      "name": "python3",
      "display_name": "Python 3"
    },
    "language_info": {
      "name": "python"
    }
  },
  "cells": [
    {
      "cell_type": "markdown",
      "metadata": {
        "id": "view-in-github",
        "colab_type": "text"
      },
      "source": [
        "<a href=\"https://colab.research.google.com/github/Aishasiddiqui97/Classes/blob/main/ASCLASS13.ipynb\" target=\"_parent\"><img src=\"https://colab.research.google.com/assets/colab-badge.svg\" alt=\"Open In Colab\"/></a>"
      ]
    },
    {
      "cell_type": "markdown",
      "source": [
        "\n",
        "1 - is vs ==\n",
        "\n",
        "2- Generators\n",
        "\n",
        "3- List Comprehension\n"
      ],
      "metadata": {
        "id": "Y2AWnhG-GmkH"
      }
    },
    {
      "cell_type": "code",
      "source": [
        "# string\n",
        "# Integer\n",
        "# float\n",
        "# boolean\n",
        "# list\n",
        "# tuple\n",
        "# dict\n",
        "# set\n",
        "# None"
      ],
      "metadata": {
        "id": "u5iPK3h8GsTj"
      },
      "execution_count": null,
      "outputs": []
    },
    {
      "cell_type": "markdown",
      "source": [
        "Mutable Data Types (jo change ho ske)"
      ],
      "metadata": {
        "id": "2-ehIeyCGvlU"
      }
    },
    {
      "cell_type": "code",
      "source": [
        "# list\n",
        "# dictionary\n",
        "# set"
      ],
      "metadata": {
        "id": "jwl10xDFG1I-"
      },
      "execution_count": null,
      "outputs": []
    },
    {
      "cell_type": "markdown",
      "source": [
        "Immutable (jo change na ho ske)"
      ],
      "metadata": {
        "id": "ljImqKzzG59y"
      }
    },
    {
      "cell_type": "code",
      "source": [
        "# string\n",
        "# integer\n",
        "# boolean\n",
        "# tuple\n",
        "# float\n",
        "# None"
      ],
      "metadata": {
        "id": "bR0mNSAJG_aT"
      },
      "execution_count": null,
      "outputs": []
    },
    {
      "cell_type": "code",
      "source": [
        "dishes = [\"samose\", \"channa chat\", \"Dahi bala\"]\n",
        "dishes.append(\"jalabi\")\n",
        "print(dishes)"
      ],
      "metadata": {
        "colab": {
          "base_uri": "https://localhost:8080/"
        },
        "id": "377NcvGAHCpT",
        "outputId": "2f4a03bc-e95e-483d-da46-3d7359b9d57e"
      },
      "execution_count": 13,
      "outputs": [
        {
          "output_type": "stream",
          "name": "stdout",
          "text": [
            "['samose', 'channa chat', 'Dahi bala', 'jalabi']\n"
          ]
        }
      ]
    },
    {
      "cell_type": "code",
      "source": [
        "name: str = \"DESIGNER AISHA\"\n",
        "number: int= 20\n",
        "\n",
        "print(name)"
      ],
      "metadata": {
        "colab": {
          "base_uri": "https://localhost:8080/"
        },
        "id": "8a70GaIcHGy-",
        "outputId": "f9f48b96-099e-432e-d890-a9721bac0ff2"
      },
      "execution_count": 12,
      "outputs": [
        {
          "output_type": "stream",
          "name": "stdout",
          "text": [
            "DESIGNER AISHA\n"
          ]
        }
      ]
    },
    {
      "cell_type": "code",
      "source": [
        "list1 = [1,2,3,4,5]\n",
        "list2 = [1,2,3,4,5]\n",
        "\n",
        "print(list1 == list2)\n",
        "print(list1 is list2)"
      ],
      "metadata": {
        "colab": {
          "base_uri": "https://localhost:8080/"
        },
        "id": "tqCVfailHJez",
        "outputId": "336f7551-87bf-4974-e6ea-722ae2687b95"
      },
      "execution_count": 11,
      "outputs": [
        {
          "output_type": "stream",
          "name": "stdout",
          "text": [
            "True\n",
            "False\n"
          ]
        }
      ]
    },
    {
      "cell_type": "code",
      "source": [
        "list1 = [1,2,3,4,5]\n",
        "list2 = list1\n",
        "\n",
        "print(list1 == list2)\n",
        "print(list1 is list2)"
      ],
      "metadata": {
        "colab": {
          "base_uri": "https://localhost:8080/"
        },
        "id": "NxSLizZuHL-p",
        "outputId": "3981945d-87fb-4959-dfd7-6686ec68a40f"
      },
      "execution_count": 10,
      "outputs": [
        {
          "output_type": "stream",
          "name": "stdout",
          "text": [
            "True\n",
            "True\n"
          ]
        }
      ]
    },
    {
      "cell_type": "code",
      "source": [
        "\n",
        "name1 = \"AISHA how are you? i am fine\"\n",
        "name2 = \"AISHA how are you? i am fine\"\n",
        "num1 = 1\n",
        "num2 = 2.5\n",
        "\n",
        "bool1 = True\n",
        "bool2 = True\n",
        "\n",
        "print(name1 is name2)\n",
        "print(num1  is num2)\n",
        "print(bool1 is bool2)"
      ],
      "metadata": {
        "colab": {
          "base_uri": "https://localhost:8080/"
        },
        "id": "9BgDUYcoHPmd",
        "outputId": "181038c5-97b8-420e-bea7-04a2c14c97f0"
      },
      "execution_count": 9,
      "outputs": [
        {
          "output_type": "stream",
          "name": "stdout",
          "text": [
            "False\n",
            "False\n",
            "True\n"
          ]
        }
      ]
    },
    {
      "cell_type": "code",
      "source": [
        "list1 = [1,2,3,4,5]\n",
        "list2 = list1  # list1 ka reference\n",
        "list1.append(6) # [1,2,3,4,5,6]\n",
        "\n",
        "print(\"list2>>>\",list2) # list1 ka reference"
      ],
      "metadata": {
        "colab": {
          "base_uri": "https://localhost:8080/"
        },
        "id": "9vxg2lBNHTJv",
        "outputId": "f9c335a6-0bf6-4f9a-cb29-100a31137fd5"
      },
      "execution_count": 8,
      "outputs": [
        {
          "output_type": "stream",
          "name": "stdout",
          "text": [
            "list2>>> [1, 2, 3, 4, 5, 6]\n"
          ]
        }
      ]
    },
    {
      "cell_type": "code",
      "source": [
        "\n",
        "value1: str = \"how are you? \"\n",
        "value2: str = value1 #  \"how are you? \"\n",
        "\n",
        "value1 = \"I am fine\"\n",
        "value2 = value1 # \"I am fine\"\n",
        "\n",
        "print(value2)"
      ],
      "metadata": {
        "colab": {
          "base_uri": "https://localhost:8080/"
        },
        "id": "jHhPzbP8HWwf",
        "outputId": "1bfbaba5-2bf3-4fd7-8369-350f6efa469d"
      },
      "execution_count": 6,
      "outputs": [
        {
          "output_type": "stream",
          "name": "stdout",
          "text": [
            "I am fine\n"
          ]
        }
      ]
    },
    {
      "cell_type": "code",
      "source": [
        "sqr_list = []\n",
        "def get_sqr_list(n: int):\n",
        "   for num in range(0,n):  #[0,1,2,3,4]\n",
        "    # print(\"num>>>\",num)\n",
        "    sqr_num = num * num # 0 * 0 -> 1 * 1 -> 2 * 2\n",
        "    # print(\"sqr_num>>\",sqr_num)\n",
        "    sqr_list.append(sqr_num) # [] -> [0] -> [0,1] ->  [0,1,4]\n",
        "\n",
        "get_sqr_list(5)\n",
        "print(sqr_list)"
      ],
      "metadata": {
        "colab": {
          "base_uri": "https://localhost:8080/"
        },
        "id": "RyFiknrRHZf6",
        "outputId": "2b6ea3c1-e6b1-4ea6-f386-24ec076e3e79"
      },
      "execution_count": 7,
      "outputs": [
        {
          "output_type": "stream",
          "name": "stdout",
          "text": [
            "[0, 1, 4, 9, 16]\n"
          ]
        }
      ]
    },
    {
      "cell_type": "code",
      "source": [
        "def get_sqr_list(n: int):\n",
        "  # for num in range(n):\n",
        "        # num * num\n",
        "    # sqr_list = [output loop with condition]\n",
        "  # sqr_list = [num * num for num in range(n)]\n",
        "  sqr_list = [num * num for num in range(5)]\n",
        "  print(\"sqr_list>>>\",sqr_list)\n",
        "\n",
        "\n",
        "get_sqr_list(5)\n"
      ],
      "metadata": {
        "colab": {
          "base_uri": "https://localhost:8080/"
        },
        "id": "vzj02Q5YHdVC",
        "outputId": "18cfabc5-b15d-43da-a34c-5dd399d1e856"
      },
      "execution_count": 5,
      "outputs": [
        {
          "output_type": "stream",
          "name": "stdout",
          "text": [
            "sqr_list>>> [0, 1, 4, 9, 16]\n"
          ]
        }
      ]
    },
    {
      "cell_type": "code",
      "source": [
        "\n",
        "numbers = [1,2,3,4,5,6,7,8,9,10]\n",
        "even_numbers = []\n",
        "\n",
        "# if num % 2 == 0:\n",
        "#    print(\"number is even\")\n",
        "# print(13  % 2 )\n",
        "\n",
        "for num in numbers:\n",
        "  if num % 2 == 0:\n",
        "    even_numbers.append(num)\n",
        "\n",
        "print(even_numbers)"
      ],
      "metadata": {
        "colab": {
          "base_uri": "https://localhost:8080/"
        },
        "id": "P11lMV9LHgRl",
        "outputId": "2d4cacbe-3a3d-4d43-8517-df0574737291"
      },
      "execution_count": 4,
      "outputs": [
        {
          "output_type": "stream",
          "name": "stdout",
          "text": [
            "[2, 4, 6, 8, 10]\n"
          ]
        }
      ]
    },
    {
      "cell_type": "code",
      "source": [
        "numbers = [1,2,3,4,5,6,7,8,9,10]\n",
        "#  num ko return kro agr num wo even he\n",
        "even_list = [num for num in numbers if num % 2 == 0]\n",
        "\n",
        "print(even_list)"
      ],
      "metadata": {
        "colab": {
          "base_uri": "https://localhost:8080/"
        },
        "id": "ofPEjYfFHj_V",
        "outputId": "7af61a89-94c8-4460-ec38-1e25f3219ed4"
      },
      "execution_count": 3,
      "outputs": [
        {
          "output_type": "stream",
          "name": "stdout",
          "text": [
            "[2, 4, 6, 8, 10]\n"
          ]
        }
      ]
    },
    {
      "cell_type": "code",
      "source": [
        "\n",
        "def get_numbers():\n",
        "  result = []\n",
        "  for num in range(0,11):\n",
        "    result.append(num)\n",
        "  return result\n",
        "\n",
        "\n",
        "number_list =get_numbers()\n",
        "print(number_list)\n"
      ],
      "metadata": {
        "colab": {
          "base_uri": "https://localhost:8080/"
        },
        "id": "Mrm-egCfHnoI",
        "outputId": "672faf1d-250c-4a64-cbb7-6b63125ffca2"
      },
      "execution_count": 2,
      "outputs": [
        {
          "output_type": "stream",
          "name": "stdout",
          "text": [
            "[0, 1, 2, 3, 4, 5, 6, 7, 8, 9, 10]\n"
          ]
        }
      ]
    },
    {
      "cell_type": "code",
      "source": [
        "\n",
        "def get_generated_values():\n",
        "  for num in range(0,11):\n",
        "    yield num  # 0 -> 1\n",
        "\n",
        "\n",
        "result = get_generated_values()\n",
        "# print(next(result))\n",
        "# print(next(result))\n",
        "# print(next(result))\n",
        "# print(next(result))\n",
        "# print(next(result))\n",
        "# print(next(result))\n",
        "# print(next(result))\n",
        "# print(next(result))\n",
        "# print(next(result))\n",
        "# print(next(result))\n",
        "# print(next(result))\n",
        "\n",
        "for num in result:\n",
        "  print(\"nuum>>>\",num)\n",
        "\n",
        "\n",
        "# print(\"result>>\",result)"
      ],
      "metadata": {
        "colab": {
          "base_uri": "https://localhost:8080/"
        },
        "id": "UYPp_Km8HqJk",
        "outputId": "d73c2329-376d-4291-9fc8-6e6116da4818"
      },
      "execution_count": 1,
      "outputs": [
        {
          "output_type": "stream",
          "name": "stdout",
          "text": [
            "nuum>>> 0\n",
            "nuum>>> 1\n",
            "nuum>>> 2\n",
            "nuum>>> 3\n",
            "nuum>>> 4\n",
            "nuum>>> 5\n",
            "nuum>>> 6\n",
            "nuum>>> 7\n",
            "nuum>>> 8\n",
            "nuum>>> 9\n",
            "nuum>>> 10\n"
          ]
        }
      ]
    }
  ]
}