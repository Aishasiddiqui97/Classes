{
  "nbformat": 4,
  "nbformat_minor": 0,
  "metadata": {
    "colab": {
      "provenance": [],
      "authorship_tag": "ABX9TyPDAA51C6XoQf3fvlAI29PB",
      "include_colab_link": true
    },
    "kernelspec": {
      "name": "python3",
      "display_name": "Python 3"
    },
    "language_info": {
      "name": "python"
    }
  },
  "cells": [
    {
      "cell_type": "markdown",
      "metadata": {
        "id": "view-in-github",
        "colab_type": "text"
      },
      "source": [
        "<a href=\"https://colab.research.google.com/github/Aishasiddiqui97/Classes/blob/main/AS_CLASS_11_classwork.ipynb\" target=\"_parent\"><img src=\"https://colab.research.google.com/assets/colab-badge.svg\" alt=\"Open In Colab\"/></a>"
      ]
    },
    {
      "cell_type": "markdown",
      "source": [
        "CLASS TOPIC Short hand else/tenery opperators"
      ],
      "metadata": {
        "id": "Cx2M8BEl5TDu"
      }
    },
    {
      "cell_type": "code",
      "source": [
        "num: int =10\n",
        "\n",
        "if num >10:\n",
        "    print(\"number is greaters then 10\")\n",
        "else:\n",
        "    print(\"number is less then <10\")\n",
        "\n",
        "#second\n",
        "#if condition:\n",
        "   # statment:\n",
        "#else:\n",
        "num:int = 9\n",
        "print(\"num is greater then 10\") if num>10 else print(\"number is lees then 10\")\n",
        "#3\n",
        "num =5\n",
        "#num2 =agr condition ture value 20 warna 10\n",
        "num2 =20 if num < 10 else 7\n",
        "print(\"num>>>\",num2)"
      ],
      "metadata": {
        "colab": {
          "base_uri": "https://localhost:8080/"
        },
        "id": "ikbRnK0p5jVf",
        "outputId": "988df23e-6766-40b6-e0dd-883c2178e5d8"
      },
      "execution_count": 1,
      "outputs": [
        {
          "output_type": "stream",
          "name": "stdout",
          "text": [
            "number is less then <10\n",
            "number is lees then 10\n",
            "num>>> 20\n"
          ]
        }
      ]
    },
    {
      "cell_type": "markdown",
      "source": [
        "ENUMANTED FUNCTION\n"
      ],
      "metadata": {
        "id": "BMiHdlUh56gC"
      }
    },
    {
      "cell_type": "code",
      "source": [
        "#EXAMPLE\n",
        "#          0         1      2      3\n",
        "names = [\"aisha\",\"jabbar\",\"eman\",\"yoha\"]\n",
        "for name in names:\n",
        "   print(name)\n"
      ],
      "metadata": {
        "colab": {
          "base_uri": "https://localhost:8080/"
        },
        "id": "UmNczq9w59ZZ",
        "outputId": "b74cc34c-b1a2-4731-d8e4-c164b2c2eb9c"
      },
      "execution_count": 2,
      "outputs": [
        {
          "output_type": "stream",
          "name": "stdout",
          "text": [
            "aisha\n",
            "jabbar\n",
            "eman\n",
            "yoha\n"
          ]
        }
      ]
    },
    {
      "cell_type": "code",
      "source": [
        "#2\n",
        "#          0         1      2      3\n",
        "names = [\"aisha\",\"jabbar\",\"eman\",\"yoha\"]\n",
        "print(names[2])\n",
        "\n"
      ],
      "metadata": {
        "colab": {
          "base_uri": "https://localhost:8080/"
        },
        "id": "RpgsibgM6Slj",
        "outputId": "7a27e5a3-65b4-41ab-ae5a-cd73a16ff42e"
      },
      "execution_count": 3,
      "outputs": [
        {
          "output_type": "stream",
          "name": "stdout",
          "text": [
            "eman\n"
          ]
        }
      ]
    },
    {
      "cell_type": "code",
      "source": [
        "#3\n",
        "for name in names:\n",
        "    if names[1] == \"jabbar\":\n",
        "        print(\"ADAB Jabbar\")\n",
        "        print(name)\n",
        ""
      ],
      "metadata": {
        "colab": {
          "base_uri": "https://localhost:8080/"
        },
        "id": "arQgN4xC6X5G",
        "outputId": "702e7508-7508-4855-b989-526d4c408b6b"
      },
      "execution_count": 4,
      "outputs": [
        {
          "output_type": "stream",
          "name": "stdout",
          "text": [
            "ADAB Jabbar\n",
            "aisha\n",
            "ADAB Jabbar\n",
            "jabbar\n",
            "ADAB Jabbar\n",
            "eman\n",
            "ADAB Jabbar\n",
            "yoha\n"
          ]
        }
      ]
    },
    {
      "cell_type": "code",
      "source": [
        "#4\n",
        "#           0         1      2      3\n",
        "names = [\"aisha\",\"jabbar\",\"eman\",\"yoha\"]\n",
        "# print(names[1])\n",
        "index =0\n",
        "for name in names:\n",
        "    print(\"index\",index)\n",
        "    print(name)\n",
        "    index =index +1"
      ],
      "metadata": {
        "colab": {
          "base_uri": "https://localhost:8080/"
        },
        "id": "3O9M_tD36c7h",
        "outputId": "d98222d1-42ad-4abe-f1bb-f2fa6766999f"
      },
      "execution_count": 5,
      "outputs": [
        {
          "output_type": "stream",
          "name": "stdout",
          "text": [
            "index 0\n",
            "aisha\n",
            "index 1\n",
            "jabbar\n",
            "index 2\n",
            "eman\n",
            "index 3\n",
            "yoha\n"
          ]
        }
      ]
    },
    {
      "cell_type": "code",
      "source": [
        "#5\n",
        "#           0         1      2      3\n",
        "names = [\"aisha\",\"jabbar\",\"eman\",\"yoha\"]\n",
        "index =0\n",
        "for name in names:\n",
        "    print(f\"name{index}: {name}\")"
      ],
      "metadata": {
        "colab": {
          "base_uri": "https://localhost:8080/"
        },
        "id": "o-YDFCe06icJ",
        "outputId": "fa6721ff-493b-4b4f-c365-c42ddb7c3e34"
      },
      "execution_count": 6,
      "outputs": [
        {
          "output_type": "stream",
          "name": "stdout",
          "text": [
            "name0: aisha\n",
            "name0: jabbar\n",
            "name0: eman\n",
            "name0: yoha\n"
          ]
        }
      ]
    },
    {
      "cell_type": "code",
      "source": [
        "#6\n",
        "#          0         1      2      3\n",
        "names = [\"aisha\",\"jabbar\",\"eman\",\"yoha\"]\n",
        "for index,name in enumerate(names):\n",
        "  print(f\"name{index}: {name}\")\n"
      ],
      "metadata": {
        "colab": {
          "base_uri": "https://localhost:8080/"
        },
        "id": "AvQ0VXy-6m6c",
        "outputId": "509b1346-416a-4eb0-e321-9891c0e4704b"
      },
      "execution_count": 7,
      "outputs": [
        {
          "output_type": "stream",
          "name": "stdout",
          "text": [
            "name0: aisha\n",
            "name1: jabbar\n",
            "name2: eman\n",
            "name3: yoha\n"
          ]
        }
      ]
    },
    {
      "cell_type": "markdown",
      "source": [
        "MAP,FILTER,REDUCE,,FUNCTION"
      ],
      "metadata": {
        "id": "hRb-mhqi6tFD"
      }
    },
    {
      "cell_type": "code",
      "source": [
        "#LOOP\n",
        "numbers =[1,2,3,4,5]\n",
        "def square(num:int) :\n",
        "    return num * num\n",
        "new_list =[]\n",
        "print\n",
        "for num in numbers:\n",
        "    print(\"num>>>\",num)\n",
        "    print(\"calling square function\")\n",
        "    num_sqr =square(num)\n",
        "    print(\"num_sqr>>>\",num_sqr)\n",
        "    print(\"new_list>>>\",new_list)"
      ],
      "metadata": {
        "colab": {
          "base_uri": "https://localhost:8080/"
        },
        "id": "etbj7nG-66KD",
        "outputId": "66b989c5-1464-4c5b-ecc4-78e8e54eb146"
      },
      "execution_count": 8,
      "outputs": [
        {
          "output_type": "stream",
          "name": "stdout",
          "text": [
            "num>>> 1\n",
            "calling square function\n",
            "num_sqr>>> 1\n",
            "new_list>>> []\n",
            "num>>> 2\n",
            "calling square function\n",
            "num_sqr>>> 4\n",
            "new_list>>> []\n",
            "num>>> 3\n",
            "calling square function\n",
            "num_sqr>>> 9\n",
            "new_list>>> []\n",
            "num>>> 4\n",
            "calling square function\n",
            "num_sqr>>> 16\n",
            "new_list>>> []\n",
            "num>>> 5\n",
            "calling square function\n",
            "num_sqr>>> 25\n",
            "new_list>>> []\n"
          ]
        }
      ]
    },
    {
      "cell_type": "code",
      "source": [
        "#map\n",
        "\n",
        "numbers =[1,2,3,4,5]\n",
        "def square(num:int) :\n",
        "    return num * num\n",
        "\n",
        "new_list = list(map(square,numbers))\n",
        "print(\"numbers\",numbers)\n",
        "print(\"new_list>>>\",new_list)"
      ],
      "metadata": {
        "colab": {
          "base_uri": "https://localhost:8080/"
        },
        "id": "TsXnVKrG7CTU",
        "outputId": "f6dde039-945f-48c4-a607-e92ca1f7c7c5"
      },
      "execution_count": 9,
      "outputs": [
        {
          "output_type": "stream",
          "name": "stdout",
          "text": [
            "numbers [1, 2, 3, 4, 5]\n",
            "new_list>>> [1, 4, 9, 16, 25]\n"
          ]
        }
      ]
    },
    {
      "cell_type": "code",
      "source": [
        "#filters\n",
        "\n",
        "numbers =[1,2,3,4,5]\n",
        "def filter_function(num:int):\n",
        "    return num >3\n",
        "\n",
        "filtered_list =list(filter(filter_function,numbers))\n",
        "print(\"filtered_list\",filtered_list)"
      ],
      "metadata": {
        "colab": {
          "base_uri": "https://localhost:8080/"
        },
        "id": "v0IjDh267GFM",
        "outputId": "e1d8738c-aed1-41e6-9803-06d52e84dd45"
      },
      "execution_count": 10,
      "outputs": [
        {
          "output_type": "stream",
          "name": "stdout",
          "text": [
            "filtered_list [4, 5]\n"
          ]
        }
      ]
    },
    {
      "cell_type": "code",
      "source": [
        "#MAP\n",
        "\n",
        "numbers =[1,2,3,4,5]\n",
        "def filter_function(num:int):\n",
        "    return num >3\n",
        "\n",
        "filtered_list =list(map(filter_function,numbers))\n",
        "print(\"filtered_list\",filtered_list)"
      ],
      "metadata": {
        "colab": {
          "base_uri": "https://localhost:8080/"
        },
        "id": "iw0gefT17LLc",
        "outputId": "c7313130-3050-40d8-f6d1-224211180209"
      },
      "execution_count": 11,
      "outputs": [
        {
          "output_type": "stream",
          "name": "stdout",
          "text": [
            "filtered_list [False, False, False, True, True]\n"
          ]
        }
      ]
    },
    {
      "cell_type": "markdown",
      "source": [
        "REDUCE"
      ],
      "metadata": {
        "id": "7N27jr3a7Vd6"
      }
    }
  ]
}